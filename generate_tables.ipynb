{
 "cells": [
  {
   "cell_type": "markdown",
   "id": "2b8f96d0",
   "metadata": {},
   "source": [
    "### Generate `r.csv` - Reward Table"
   ]
  },
  {
   "cell_type": "code",
   "execution_count": 26,
   "id": "0d0f7bb3",
   "metadata": {},
   "outputs": [
    {
     "name": "stdout",
     "output_type": "stream",
     "text": [
      "CSV file created successfully!\n"
     ]
    }
   ],
   "source": [
    "import csv\n",
    "\n",
    "# Sample data\n",
    "NUM_STATES = 6\n",
    "MAX_REWARD = 5000\n",
    "\n",
    "data = [[round(5000/i, 4)] for i in range(NUM_STATES, 0, -1)]\n",
    "\n",
    "\n",
    "# Write CSV file\n",
    "with open(\"r.csv\", \"w\", newline=\"\") as file:\n",
    "    writer = csv.writer(file)\n",
    "    writer.writerows(data)\n",
    "\n",
    "print(\"CSV file created successfully!\")"
   ]
  },
  {
   "cell_type": "markdown",
   "id": "4d85fe74",
   "metadata": {},
   "source": [
    "### Create TPTable using Dirichlet Distribution"
   ]
  },
  {
   "cell_type": "code",
   "execution_count": null,
   "id": "afa57c49",
   "metadata": {},
   "outputs": [
    {
     "name": "stdout",
     "output_type": "stream",
     "text": [
      "TPTable_edge.csv complete\n"
     ]
    }
   ],
   "source": [
    "import csv\n",
    "import numpy as np\n",
    " \n",
    "def generate_dominant_pattern(num_states=6, alpha=0.2):\n",
    " \n",
    "    alpha_vec = [alpha] * num_states\n",
    "    probs = np.random.dirichlet(alpha_vec)\n",
    "    probs = np.round(probs, 2)\n",
    " \n",
    "    diff = round(1 - np.sum(probs), 2)\n",
    "    max_idx = np.argmax(probs)\n",
    "    probs[max_idx] = round(probs[max_idx] + diff, 2)\n",
    " \n",
    "    probs = np.clip(probs, 0, 1)\n",
    "    probs = probs / probs.sum()\n",
    "    probs = np.round(probs, 2)\n",
    " \n",
    "    diff = round(1 - np.sum(probs), 2)\n",
    "    probs[np.argmax(probs)] += diff\n",
    " \n",
    "    return probs\n",
    " \n",
    "states = list(range(6))   # 0~5\n",
    "actions = list(range(6))  # 0~5\n",
    " \n",
    "rows = []\n",
    " \n",
    "for s in states:\n",
    "    for a in actions:\n",
    "        probs = generate_dominant_pattern()\n",
    "        for ns, p in enumerate(probs):\n",
    "            rows.append([s, a, ns, p])\n",
    " \n",
    "with open(\"TPTable.csv\", \"w\", newline=\"\") as f:\n",
    "    writer = csv.writer(f)\n",
    "    writer.writerows(rows)\n",
    " \n",
    "print(\"TPTable.csv complete\")\n",
    " "
   ]
  }
 ],
 "metadata": {
  "kernelspec": {
   "display_name": ".venv (3.12.3)",
   "language": "python",
   "name": "python3"
  },
  "language_info": {
   "codemirror_mode": {
    "name": "ipython",
    "version": 3
   },
   "file_extension": ".py",
   "mimetype": "text/x-python",
   "name": "python",
   "nbconvert_exporter": "python",
   "pygments_lexer": "ipython3",
   "version": "3.12.3"
  }
 },
 "nbformat": 4,
 "nbformat_minor": 5
}
